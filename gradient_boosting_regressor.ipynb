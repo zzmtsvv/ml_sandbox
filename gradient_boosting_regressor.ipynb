{
 "cells": [
  {
   "cell_type": "code",
   "execution_count": 1,
   "metadata": {},
   "outputs": [],
   "source": [
    "import pandas as pd\n",
    "from sklearn.datasets import make_regression\n",
    "from sklearn.tree import DecisionTreeRegressor\n",
    "from sklearn.metrics import mean_squared_error\n",
    "import matplotlib.pyplot as plt\n",
    "import numpy as np"
   ]
  },
  {
   "cell_type": "code",
   "execution_count": 7,
   "metadata": {},
   "outputs": [],
   "source": [
    "class GradBoostingReg:\n",
    "    def __init__(self, n_trees=1000, lr=0.1, metric=mean_squared_error):\n",
    "        self.lr = lr\n",
    "        self.n_trees = n_trees\n",
    "        self.trees = []\n",
    "        self.errors = []\n",
    "        self.metric = metric\n",
    "    \n",
    "    def fit(self, X, y):\n",
    "        y_pred = np.array([y.mean() for _ in range(X.shape[0])])\n",
    "        \n",
    "        for _ in range(self.n_trees):\n",
    "            residual = y - y_pred\n",
    "\n",
    "            tree = DecisionTreeRegressor(max_depth=1)\n",
    "            tree.fit(X, residual)\n",
    "\n",
    "            y_pred += self.lr * tree.predict(X)\n",
    "            self.trees.append(tree)\n",
    "            \n",
    "            error = self.metric(y, y_pred)\n",
    "            self.errors.append(error)\n",
    "    \n",
    "    def visualize_learning(self):\n",
    "        x_axis = range(1, self.n_trees + 1)\n",
    "        y_axis = self.errors\n",
    "\n",
    "        plt.scatter(x_axis, y_axis)\n",
    "        plt.show()"
   ]
  },
  {
   "cell_type": "code",
   "execution_count": 3,
   "metadata": {},
   "outputs": [],
   "source": [
    "x, y_true = make_regression(n_samples=100, n_features=7)"
   ]
  },
  {
   "cell_type": "code",
   "execution_count": 8,
   "metadata": {},
   "outputs": [],
   "source": [
    "model = GradBoostingReg()\n",
    "\n",
    "model.fit(x, y_true)"
   ]
  },
  {
   "cell_type": "code",
   "execution_count": 9,
   "metadata": {},
   "outputs": [
    {
     "data": {
      "image/png": "[encoded data removed]",
      "text/plain": [
       "<Figure size 432x288 with 1 Axes>"
      ]
     },
     "metadata": {
      "needs_background": "light"
     },
     "output_type": "display_data"
    }
   ],
   "source": [
    "model.visualize_learning()"
   ]
  }
 ],
 "metadata": {
  "interpreter": {
   "hash": "40d3a090f54c6569ab1632332b64b2c03c39dcf918b08424e98f38b5ae0af88f"
  },
  "kernelspec": {
   "display_name": "Python 3.9.12 ('base')",
   "language": "python",
   "name": "python3"
  },
  "language_info": {
   "codemirror_mode": {
    "name": "ipython",
    "version": 3
   },
   "file_extension": ".py",
   "mimetype": "text/x-python",
   "name": "python",
   "nbconvert_exporter": "python",
   "pygments_lexer": "ipython3",
   "version": "3.9.12"
  },
  "orig_nbformat": 4
 },
 "nbformat": 4,
 "nbformat_minor": 2
}
